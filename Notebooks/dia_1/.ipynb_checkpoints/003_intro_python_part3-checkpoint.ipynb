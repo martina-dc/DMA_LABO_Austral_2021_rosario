{
 "cells": [
  {
   "cell_type": "markdown",
   "metadata": {
    "colab_type": "text",
    "id": "gwajd8OViTHi"
   },
   "source": [
    "### Definición de funciones\n",
    "\n",
    "Las funciones se definen con la palabra clave `def`\n",
    "\n",
    "```python\n",
    "def funcion(argumento1, argumento2, argumento_con_default=None, \n",
    "            *argumentos_posicionales_aninimos, **otros_argumentos_con_nombre)\n",
    "    # hacer algo\n",
    "    algo = 0\n",
    "    return algo\n",
    "```"
   ]
  },
  {
   "cell_type": "code",
   "execution_count": 7,
   "metadata": {},
   "outputs": [
    {
     "data": {
      "text/plain": [
       "3"
      ]
     },
     "execution_count": 7,
     "metadata": {},
     "output_type": "execute_result"
    }
   ],
   "source": [
    "sum([1,2,1,2,-3])"
   ]
  },
  {
   "cell_type": "code",
   "execution_count": 10,
   "metadata": {},
   "outputs": [],
   "source": [
    "b=1"
   ]
  },
  {
   "cell_type": "code",
   "execution_count": 11,
   "metadata": {},
   "outputs": [],
   "source": [
    "def suma(a,b):\n",
    "    return a+b"
   ]
  },
  {
   "cell_type": "code",
   "execution_count": 12,
   "metadata": {},
   "outputs": [
    {
     "data": {
      "text/plain": [
       "2"
      ]
     },
     "execution_count": 12,
     "metadata": {},
     "output_type": "execute_result"
    }
   ],
   "source": [
    "suma(1,b)"
   ]
  },
  {
   "cell_type": "code",
   "execution_count": 13,
   "metadata": {
    "colab": {},
    "colab_type": "code",
    "id": "chSZ5gyiiTHk",
    "tags": []
   },
   "outputs": [
    {
     "name": "stdout",
     "output_type": "stream",
     "text": [
      "fuera de funcion\n"
     ]
    }
   ],
   "source": [
    "def fun():\n",
    "    print(\"hago cuentas\")\n",
    "    return 1, 2, 3\n",
    "print(\"fuera de funcion\")"
   ]
  },
  {
   "cell_type": "code",
   "execution_count": 14,
   "metadata": {
    "colab": {},
    "colab_type": "code",
    "id": "JOksxlTiiTH1",
    "tags": []
   },
   "outputs": [
    {
     "name": "stdout",
     "output_type": "stream",
     "text": [
      "hago cuentas\n"
     ]
    }
   ],
   "source": [
    "a,b,c=fun()"
   ]
  },
  {
   "cell_type": "code",
   "execution_count": 15,
   "metadata": {},
   "outputs": [
    {
     "data": {
      "text/plain": [
       "(1, 2, 3)"
      ]
     },
     "execution_count": 15,
     "metadata": {},
     "output_type": "execute_result"
    }
   ],
   "source": [
    "a,b,c"
   ]
  },
  {
   "cell_type": "code",
   "execution_count": 16,
   "metadata": {
    "colab": {},
    "colab_type": "code",
    "id": "7ggA0CG0iTIA",
    "tags": []
   },
   "outputs": [],
   "source": [
    "def funcionCompleja(a, b=1, *args, **kwargs):\n",
    "    \"\"\"esta viene con ayuda\n",
    "    pero nos olvidamos de escribirla\"\"\"\n",
    "    print(\"a =\", a)\n",
    "    print(\"b =\", b)\n",
    "    for i, arg in enumerate(args):\n",
    "        print(\"elemento {0} de args es igual a {1}\".format(i, arg))\n",
    "    for i, arg in enumerate(kwargs):\n",
    "        print(\"elemento {0} de kwargs es igual a {1}\".format(arg, kwargs[arg]))\n",
    "    return 1\n",
    "\n"
   ]
  },
  {
   "cell_type": "code",
   "execution_count": 17,
   "metadata": {},
   "outputs": [],
   "source": [
    "def sumaplus(*args):\n",
    "    a=0\n",
    "    for i,arg in enumerate(args):\n",
    "        a+=arg\n",
    "    return a"
   ]
  },
  {
   "cell_type": "code",
   "execution_count": 18,
   "metadata": {},
   "outputs": [
    {
     "data": {
      "text/plain": [
       "4"
      ]
     },
     "execution_count": 18,
     "metadata": {},
     "output_type": "execute_result"
    }
   ],
   "source": [
    "sumaplus(1,1,1,1)"
   ]
  },
  {
   "cell_type": "code",
   "execution_count": 19,
   "metadata": {
    "colab": {},
    "colab_type": "code",
    "id": "lU3rUv2kiTII",
    "tags": []
   },
   "outputs": [
    {
     "name": "stdout",
     "output_type": "stream",
     "text": [
      "a = 10\n",
      "b = 1\n"
     ]
    },
    {
     "data": {
      "text/plain": [
       "1"
      ]
     },
     "execution_count": 19,
     "metadata": {},
     "output_type": "execute_result"
    }
   ],
   "source": [
    "funcionCompleja(10)"
   ]
  },
  {
   "cell_type": "code",
   "execution_count": 20,
   "metadata": {
    "colab": {},
    "colab_type": "code",
    "id": "tf6MQ8WaiTIb",
    "tags": []
   },
   "outputs": [
    {
     "name": "stdout",
     "output_type": "stream",
     "text": [
      "a = a\n",
      "b = b\n",
      "elemento 0 de args es igual a otro1\n",
      "elemento 1 de args es igual a otro2\n",
      "elemento nombrado1 de kwargs es igual a tiene nombre\n",
      "elemento nombrado2 de kwargs es igual a este tambien\n"
     ]
    },
    {
     "data": {
      "text/plain": [
       "1"
      ]
     },
     "execution_count": 20,
     "metadata": {},
     "output_type": "execute_result"
    }
   ],
   "source": [
    "funcionCompleja(\"a\", \"b\", \"otro1\", \"otro2\", nombrado1=\"tiene nombre\", nombrado2=\"este tambien\")"
   ]
  },
  {
   "cell_type": "code",
   "execution_count": 21,
   "metadata": {
    "colab": {},
    "colab_type": "code",
    "id": "A2Cd-byoiTIw",
    "tags": []
   },
   "outputs": [
    {
     "name": "stdout",
     "output_type": "stream",
     "text": [
      "hago cuentas\n",
      "j es igual a (1, 2, 3)\n",
      "hago cuentas\n"
     ]
    },
    {
     "data": {
      "text/plain": [
       "'x es igual a 1'"
      ]
     },
     "execution_count": 21,
     "metadata": {},
     "output_type": "execute_result"
    }
   ],
   "source": [
    "#unpacking \n",
    "j = fun()\n",
    "print(f\"j es igual a {j}\")\n",
    "x, y, z = fun()\n",
    "f\"x es igual a {x}\""
   ]
  },
  {
   "cell_type": "code",
   "execution_count": 22,
   "metadata": {},
   "outputs": [
    {
     "name": "stdout",
     "output_type": "stream",
     "text": [
      "hago cuentas\n"
     ]
    }
   ],
   "source": [
    "j=fun()"
   ]
  },
  {
   "cell_type": "code",
   "execution_count": 23,
   "metadata": {},
   "outputs": [
    {
     "data": {
      "text/plain": [
       "1"
      ]
     },
     "execution_count": 23,
     "metadata": {},
     "output_type": "execute_result"
    }
   ],
   "source": [
    "j[0]"
   ]
  },
  {
   "cell_type": "code",
   "execution_count": 24,
   "metadata": {
    "colab": {},
    "colab_type": "code",
    "id": "aFOH4NyRiTI7",
    "tags": []
   },
   "outputs": [
    {
     "name": "stdout",
     "output_type": "stream",
     "text": [
      "Help on function funcionCompleja in module __main__:\n",
      "\n",
      "funcionCompleja(a, b=1, *args, **kwargs)\n",
      "    esta viene con ayuda\n",
      "    pero nos olvidamos de escribirla\n",
      "\n"
     ]
    }
   ],
   "source": [
    "help(funcionCompleja)"
   ]
  },
  {
   "cell_type": "code",
   "execution_count": 25,
   "metadata": {
    "colab": {},
    "colab_type": "code",
    "id": "fvo-EQbviTJE"
   },
   "outputs": [],
   "source": [
    "funcionCompleja?"
   ]
  },
  {
   "cell_type": "markdown",
   "metadata": {
    "colab_type": "text",
    "id": "G3giR5xciTJL"
   },
   "source": [
    "### Definición de Clases\n",
    "\n",
    "Python admite dos paradigmas de programación:\n",
    "*   Programación Estructurada \n",
    "*   Programación Orientada a Objetos \n",
    "\n",
    "Para lo segundo, introducimos el concepto de **Clases**\n"
   ]
  },
  {
   "cell_type": "markdown",
   "metadata": {
    "colab_type": "text",
    "id": "d9MLYYCfphP8"
   },
   "source": [
    "A partir de una clase creamos determinados **Objetos** con caracteristicas definidas. \n",
    "\n",
    "Dichos Objetos son entidades que tienen un *Comportamiento*; un *Estado*; *Almacenan Información* y pueden *Realizar Tareas*."
   ]
  },
  {
   "cell_type": "markdown",
   "metadata": {
    "colab_type": "text",
    "id": "JbTvB-EEpLfw"
   },
   "source": [
    "\n",
    "---\n",
    "\n",
    "Ejemplo simple para los que no vienen de formación en Programación:\n",
    "\n",
    "Tenemos la Clase: **Animal**\n",
    "\n",
    "El objeto instanciado (creado a partir de esa clase): **Perro**\n",
    "\n",
    "Que tiene sus atributos:\n",
    "*   Color: negro\n",
    "*   Raza: Coquer\n",
    "*   Tiene collar: True\n",
    "\n",
    "Y tiene sus métodos:\n",
    "*   Ladra (“Guau; guau”)\n",
    "*   Corre ()\n",
    "*   Camina()\n",
    "*   Olfatea()\n",
    "\n",
    "---\n"
   ]
  },
  {
   "cell_type": "markdown",
   "metadata": {
    "colab_type": "text",
    "id": "QsGpGBvbsHdi"
   },
   "source": [
    "\n",
    "Las clases se definen con la palabra clave `class`, los argumentos de una clase tienen que ser otras clases de las cuales hereda"
   ]
  },
  {
   "cell_type": "code",
   "execution_count": 26,
   "metadata": {
    "colab": {},
    "colab_type": "code",
    "id": "4JxPAqKLvuRY"
   },
   "outputs": [],
   "source": [
    "class perro(object):\n",
    "    \"\"\"\n",
    "    doc string de la clase\n",
    "    \"\"\"\n",
    "    def __init__(self, Color, Edad):\n",
    "        \"\"\"\n",
    "        el método __init__ es el que se llama al crear una instancia de la clase, \n",
    "        tiene ciertas similitudes con un constructor en otros lenguajes. \n",
    "        \"\"\"\n",
    "        self.Color = Color\n",
    "        self.Edad = Edad\n",
    "\n",
    "    def presentar(self):\n",
    "        \"\"\"\n",
    "        doc string del método\n",
    "        \"\"\"\n",
    "        return f\"Es un perro de color {self.Color} y de {self.Edad} años de edad\""
   ]
  },
  {
   "cell_type": "code",
   "execution_count": 27,
   "metadata": {},
   "outputs": [
    {
     "ename": "TypeError",
     "evalue": "__init__() missing 2 required positional arguments: 'Color' and 'Edad'",
     "output_type": "error",
     "traceback": [
      "\u001b[0;31m---------------------------------------------------------------------------\u001b[0m",
      "\u001b[0;31mTypeError\u001b[0m                                 Traceback (most recent call last)",
      "\u001b[0;32m<ipython-input-27-2036a0771832>\u001b[0m in \u001b[0;36m<module>\u001b[0;34m\u001b[0m\n\u001b[0;32m----> 1\u001b[0;31m \u001b[0mCoquer\u001b[0m\u001b[0;34m=\u001b[0m\u001b[0mperro\u001b[0m\u001b[0;34m(\u001b[0m\u001b[0;34m)\u001b[0m\u001b[0;34m\u001b[0m\u001b[0;34m\u001b[0m\u001b[0m\n\u001b[0m",
      "\u001b[0;31mTypeError\u001b[0m: __init__() missing 2 required positional arguments: 'Color' and 'Edad'"
     ]
    }
   ],
   "source": [
    "Coquer=perro()"
   ]
  },
  {
   "cell_type": "code",
   "execution_count": 28,
   "metadata": {
    "colab": {},
    "colab_type": "code",
    "id": "BGeHaNfIvvhk"
   },
   "outputs": [],
   "source": [
    "Coquer = perro(Color = \"Marron\", Edad = 10)"
   ]
  },
  {
   "cell_type": "code",
   "execution_count": 29,
   "metadata": {},
   "outputs": [
    {
     "data": {
      "text/plain": [
       "__main__.perro"
      ]
     },
     "execution_count": 29,
     "metadata": {},
     "output_type": "execute_result"
    }
   ],
   "source": [
    "type(Coquer)"
   ]
  },
  {
   "cell_type": "code",
   "execution_count": 30,
   "metadata": {
    "colab": {},
    "colab_type": "code",
    "id": "_8tbi5qRwTMj"
   },
   "outputs": [
    {
     "data": {
      "text/plain": [
       "'Es un perro de color Marron y de 10 años de edad'"
      ]
     },
     "execution_count": 30,
     "metadata": {},
     "output_type": "execute_result"
    }
   ],
   "source": [
    "Coquer.presentar()"
   ]
  },
  {
   "cell_type": "code",
   "execution_count": 31,
   "metadata": {},
   "outputs": [],
   "source": [
    "Coquer.Color='Blanco'"
   ]
  },
  {
   "cell_type": "code",
   "execution_count": 32,
   "metadata": {
    "colab": {},
    "colab_type": "code",
    "id": "KZs0xs5IiTJN"
   },
   "outputs": [],
   "source": [
    "class MiClase(object):\n",
    "    \"\"\"\n",
    "    doc string de la clase\n",
    "    \"\"\"\n",
    "    \n",
    "    def __init__(self, arg1=None, arg2=None):\n",
    "        \"\"\"\n",
    "        el método __init__ es el que se llama al crear una instancia de la clase\n",
    "        \"\"\"\n",
    "        self.arg1 = arg1\n",
    "        self.arg2 = arg2\n",
    "\n",
    "    def metodo1(self):\n",
    "        \"\"\"\n",
    "        doc string del método\n",
    "        \"\"\"\n",
    "        return self.arg1 + self.arg2\n",
    "   "
   ]
  },
  {
   "cell_type": "code",
   "execution_count": 33,
   "metadata": {
    "colab": {},
    "colab_type": "code",
    "id": "Vh0FjjpeiTJY"
   },
   "outputs": [],
   "source": [
    "instanacia = MiClase(15, 1)"
   ]
  },
  {
   "cell_type": "code",
   "execution_count": 34,
   "metadata": {
    "colab": {},
    "colab_type": "code",
    "id": "qgzymLi8jRMt"
   },
   "outputs": [
    {
     "data": {
      "text/plain": [
       "16"
      ]
     },
     "execution_count": 34,
     "metadata": {},
     "output_type": "execute_result"
    }
   ],
   "source": [
    "instanacia.metodo1()"
   ]
  },
  {
   "cell_type": "code",
   "execution_count": 35,
   "metadata": {
    "colab": {},
    "colab_type": "code",
    "id": "jyJ92pAqiTJk"
   },
   "outputs": [],
   "source": [
    "MiClase?"
   ]
  },
  {
   "cell_type": "code",
   "execution_count": 36,
   "metadata": {
    "colab": {},
    "colab_type": "code",
    "id": "ic2opG_OiTJq"
   },
   "outputs": [],
   "source": [
    "instanacia.metodo1?"
   ]
  },
  {
   "cell_type": "markdown",
   "metadata": {
    "colab_type": "text",
    "id": "bK5eNHTKiTJ0"
   },
   "source": [
    "#### Generadores\n",
    "\n",
    "Los generadores son un tipo especial de iteradores. A diferencia de una lista, por ejemplo, no contienen en memoria todos sus elementos, sino que los van \"generando\" a medida que le son requeridos"
   ]
  },
  {
   "cell_type": "code",
   "execution_count": 38,
   "metadata": {
    "colab": {},
    "colab_type": "code",
    "id": "Qd8CgLyxiTJ1"
   },
   "outputs": [
    {
     "data": {
      "text/plain": [
       "<generator object <genexpr> at 0x7f94ebca56d0>"
      ]
     },
     "execution_count": 38,
     "metadata": {},
     "output_type": "execute_result"
    }
   ],
   "source": [
    "generador = (a for a in range(10))\n",
    "generador"
   ]
  },
  {
   "cell_type": "code",
   "execution_count": 39,
   "metadata": {
    "colab": {},
    "colab_type": "code",
    "id": "66rYUvt-iTJ9",
    "tags": []
   },
   "outputs": [
    {
     "name": "stdout",
     "output_type": "stream",
     "text": [
      "0\n",
      "1\n",
      "2\n",
      "3\n",
      "4\n",
      "5\n",
      "6\n",
      "7\n",
      "8\n",
      "9\n"
     ]
    }
   ],
   "source": [
    "for a in generador:\n",
    "    print(a)"
   ]
  },
  {
   "cell_type": "code",
   "execution_count": 40,
   "metadata": {
    "colab": {},
    "colab_type": "code",
    "id": "JnmK2WkziTKF"
   },
   "outputs": [
    {
     "data": {
      "text/plain": [
       "[]"
      ]
     },
     "execution_count": 40,
     "metadata": {},
     "output_type": "execute_result"
    }
   ],
   "source": [
    "list(generador)"
   ]
  },
  {
   "cell_type": "code",
   "execution_count": 41,
   "metadata": {},
   "outputs": [
    {
     "data": {
      "text/plain": [
       "generator"
      ]
     },
     "execution_count": 41,
     "metadata": {},
     "output_type": "execute_result"
    }
   ],
   "source": [
    "type(generador)"
   ]
  },
  {
   "cell_type": "markdown",
   "metadata": {
    "colab_type": "text",
    "id": "e4CrX35bkGHV"
   },
   "source": [
    "Usando Yield obtenemos un resultado similar a usar \"return\", excepto que se guardará el estado de la misma para ser usada como un generador"
   ]
  },
  {
   "cell_type": "code",
   "execution_count": 42,
   "metadata": {
    "colab": {},
    "colab_type": "code",
    "id": "UXeF_1aoiTKL"
   },
   "outputs": [],
   "source": [
    "def gen():\n",
    "    for a in range(10):\n",
    "        yield a"
   ]
  },
  {
   "cell_type": "code",
   "execution_count": 43,
   "metadata": {
    "colab": {},
    "colab_type": "code",
    "id": "f3f35gKWiTKU"
   },
   "outputs": [],
   "source": [
    "generador = gen()"
   ]
  },
  {
   "cell_type": "code",
   "execution_count": 44,
   "metadata": {
    "colab": {},
    "colab_type": "code",
    "id": "NacV31VJiTKa"
   },
   "outputs": [
    {
     "data": {
      "text/plain": [
       "function"
      ]
     },
     "execution_count": 44,
     "metadata": {},
     "output_type": "execute_result"
    }
   ],
   "source": [
    "type(gen)"
   ]
  },
  {
   "cell_type": "code",
   "execution_count": 45,
   "metadata": {
    "colab": {},
    "colab_type": "code",
    "id": "3mtZ7RKRiTKn"
   },
   "outputs": [
    {
     "data": {
      "text/plain": [
       "generator"
      ]
     },
     "execution_count": 45,
     "metadata": {},
     "output_type": "execute_result"
    }
   ],
   "source": [
    "type(generador)"
   ]
  },
  {
   "cell_type": "code",
   "execution_count": 46,
   "metadata": {
    "colab": {},
    "colab_type": "code",
    "id": "xzWowDX3iTKx",
    "tags": []
   },
   "outputs": [
    {
     "name": "stdout",
     "output_type": "stream",
     "text": [
      "0\n",
      "1\n",
      "2\n",
      "3\n",
      "4\n",
      "5\n",
      "6\n",
      "7\n",
      "8\n",
      "9\n"
     ]
    }
   ],
   "source": [
    "for a in generador:\n",
    "    print(a)"
   ]
  },
  {
   "cell_type": "code",
   "execution_count": 47,
   "metadata": {
    "colab": {},
    "colab_type": "code",
    "id": "0JIlSilgiTLB"
   },
   "outputs": [],
   "source": [
    "from time import time\n",
    "def gen():\n",
    "    while True:\n",
    "        yield time()"
   ]
  },
  {
   "cell_type": "markdown",
   "metadata": {},
   "source": [
    "https://realpython.com/python-enumerate/"
   ]
  },
  {
   "cell_type": "code",
   "execution_count": 48,
   "metadata": {
    "colab": {},
    "colab_type": "code",
    "id": "mM-OhKZFiTLL",
    "tags": []
   },
   "outputs": [
    {
     "name": "stdout",
     "output_type": "stream",
     "text": [
      "1622086869.549428\n",
      "1622086869.5496309\n",
      "1622086869.549654\n",
      "1622086869.549674\n",
      "1622086869.5496929\n",
      "1622086869.549712\n",
      "1622086869.549731\n"
     ]
    }
   ],
   "source": [
    "for i, t in enumerate(gen()):\n",
    "    print(t)\n",
    "    if i > 5:\n",
    "        break"
   ]
  },
  {
   "cell_type": "code",
   "execution_count": null,
   "metadata": {},
   "outputs": [],
   "source": []
  }
 ],
 "metadata": {
  "colab": {
   "name": "02_intro_python3.ipynb",
   "provenance": []
  },
  "kernelspec": {
   "display_name": "Python 3",
   "language": "python",
   "name": "python3"
  },
  "language_info": {
   "codemirror_mode": {
    "name": "ipython",
    "version": 3
   },
   "file_extension": ".py",
   "mimetype": "text/x-python",
   "name": "python",
   "nbconvert_exporter": "python",
   "pygments_lexer": "ipython3",
   "version": "3.7.6"
  }
 },
 "nbformat": 4,
 "nbformat_minor": 1
}
