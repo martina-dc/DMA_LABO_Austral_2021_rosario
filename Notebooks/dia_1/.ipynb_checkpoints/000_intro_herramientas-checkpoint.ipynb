{
 "cells": [
  {
   "cell_type": "markdown",
   "metadata": {},
   "source": [
    "# Laboratorio de Implementación I"
   ]
  },
  {
   "cell_type": "markdown",
   "metadata": {},
   "source": [
    "### Profesores: Martin Volpacchio y Andrés D'Ambrosio"
   ]
  },
  {
   "cell_type": "markdown",
   "metadata": {},
   "source": [
    "## Git y Github\n",
    "\n",
    "En principio, buena parte del código y tutoriales serán alojados en un [repositorio público de GitHub](https://github.com/andresdambrosio/DMA_LABO_Austral_2021_rosario). Es posible acceder a ellos directamente desde el web, pero es más deseable sincronizarlos con una versión local. \n",
    "\n",
    "### Opción 1 - Clientes Git puros + VSCode (todos los sistemas operativo):\n",
    "\n",
    "Existen varias opciones de interface gráfica y de línea de comandos para el sistema [git](https://git-scm.com/downloads). Es aconsejable utilizar tambien un IDE adecuado, es posible usar simplemente jupyter notebooks directamente o a través de otro IDE como [VsCode](https://code.visualstudio.com/).\n",
    "\n",
    "### Opción 2 - GitHub Desktop (Windows y Mac):\n",
    "\n",
    "[Github Desktop](https://desktop.github.com/) es una interface gráfica para el sistema git, integrada con la plataforma GitHub pero útil para cualquier repo.\n"
   ]
  },
  {
   "cell_type": "markdown",
   "metadata": {},
   "source": [
    "\n",
    "## Python y sus paquetes de computación científica\n",
    "\n",
    "### Opción 1 - Anaconda (todos los sistemas operativos):\n",
    "\n",
    "Anaconda es otra distribución científica de Python. También viene preparada con una gran cantidad de paquetes científicos, pero tiene la desventaja de que no es portátil. Las instrucciones para descarga e instalación pueden encontrarse [su página de descargas](https://www.anaconda.com/products/individual). Para instalar paquetes adicionales, en general se pude usar el comando de línea \n",
    "\n",
    "> `conda install <nombre del paquete>`\n",
    "\n",
    "\n",
    "### Opción 2 - WinPython (sólo para Windows): \n",
    "\n",
    "WinPython es una distribución científica portátil del lenguaje de programación Python, que viene con preparado con la vasta mayoría de los paquetes científicos necesarios para trabajos estadísticos, de preparación de datos y de Data Mining. \n",
    "\n",
    "La página principal del proyecto está [acá](https://winpython.github.io/), el repo de github está [acá](https://github.com/winpython/winpython). \n",
    "\n",
    "La principal virtud de esta distribución, además de ser extremadamente fácil de instalar, es que está auto-contenida y no interfiere con otras instalaciones de Python. De esta manera, podemos tener todos las mismas versiones de los paquetes, sin que cada uno de ustedes tenga que modificar sus instalaciones principales de Python (si es que la tienen). \n",
    "\n",
    "Otra virtud de esta distribución es que resulta relativamente simple instalar paquetes adicionales, a través de un panel de control, que permite la instalación por \"Drag and Drop\". Las distribuciones que son puro Python, simplemente se bajan de [Pypi](https://pypi.python.org/pypi). Existen otras librerías que requieren la compilación de módulos externos escritos en C. Muchos de ellos tienen archivos pre-compilados, que se pueden encontrar en la [página de  Christoph Gohlke](http://www.lfd.uci.edu/~gohlke/pythonlibs/), si no existen distribuciones pre-compiladas, la labor es algo más ardua y escapa al objetivo de esta introducción.\n",
    "\n",
    "\n",
    "### Opción 3 - Instalación Manual (solo usuarios muy avanzados):\n",
    "\n",
    "También pueden instalar Python sin librerías externas desde la [página principal de Python](https://www.python.org/) y luego instalar de a una las librerías necesarias. Esta tarea es ardua y por momentos muy frustrante para usuarios con moderados conocimientos de compilación de programas en C. \n"
   ]
  },
  {
   "cell_type": "markdown",
   "metadata": {},
   "source": [
    "## Jupyter Notebooks\n",
    "\n",
    "[Jupyter Notebooks](http://jupyter.org/) es una aplicación cliente-servidor con un \"front end\" en html, que permite la ejecución remota e interactiva de código desde el navegador. Originalmente era exclusivo de Python (IPython Notebooks), pero se generalizó a [otros lenguajes](https://github.com/jupyter/jupyter/wiki/Jupyter-kernels)\n",
    "\n",
    "No es una aplicación destinada a el remplazo de un IDE, sino que es particularmente util para:\n",
    "- Presentaciones y tutoriales interactivos\n",
    "- Prototipado rápido y visualizaciones\n",
    "- Ejecución de código en máquinas remotas y/o en clúster\n",
    "- Kaggle kernels **nota al margen: sería bueno que vayan abriendo una cuenta**\n",
    "\n",
    "\n",
    "Además, para hacer el trabajo mas simple e interactivo, los notebooks incorporan resaltado de sintaxis, ayuda, renderizado de markdown y Latex, como así también funciones \"mágicas\", que iremos viendo a medida que sean útiles. \n",
    "\n",
    "Por ejemplo, esta presentación está escrita en markdown y la siguiente fórmula en Latex\n",
    "\n",
    "> $$c = \\sqrt{a^2 + b^2}$$\n",
    "\n",
    "> ` $$c = \\sqrt{a^2 + b^2}$$`"
   ]
  },
  {
   "cell_type": "code",
   "execution_count": null,
   "metadata": {},
   "outputs": [],
   "source": [
    "# ejemplos de ayuda y autocompletado (interactivo)\n",
    "import pandas as pd\n",
    "\n",
    "pd.read_csv?"
   ]
  },
  {
   "cell_type": "code",
   "execution_count": null,
   "metadata": {},
   "outputs": [],
   "source": [
    "help(pd.read_csv)"
   ]
  },
  {
   "cell_type": "code",
   "execution_count": null,
   "metadata": {},
   "outputs": [],
   "source": [
    "%%timeit\n",
    "a = 100\n",
    "list(range(10000))\n",
    "b = 123"
   ]
  },
  {
   "cell_type": "markdown",
   "metadata": {},
   "source": [
    "## Hora de instalar todo"
   ]
  },
  {
   "cell_type": "code",
   "execution_count": null,
   "metadata": {},
   "outputs": [],
   "source": []
  }
 ],
 "metadata": {
  "kernelspec": {
   "display_name": "Python 3",
   "language": "python",
   "name": "python3"
  },
  "language_info": {
   "codemirror_mode": {
    "name": "ipython",
    "version": 3
   },
   "file_extension": ".py",
   "mimetype": "text/x-python",
   "name": "python",
   "nbconvert_exporter": "python",
   "pygments_lexer": "ipython3",
   "version": "3.7.6"
  }
 },
 "nbformat": 4,
 "nbformat_minor": 4
}
