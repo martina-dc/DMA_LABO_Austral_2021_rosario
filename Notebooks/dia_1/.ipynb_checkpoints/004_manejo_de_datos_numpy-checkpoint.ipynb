{
 "cells": [
  {
   "cell_type": "markdown",
   "metadata": {
    "colab_type": "text",
    "id": "OsgacXmFyHre"
   },
   "source": [
    "# Repaso de Listas"
   ]
  },
  {
   "cell_type": "code",
   "execution_count": 1,
   "metadata": {
    "colab": {},
    "colab_type": "code",
    "id": "0JwB1omFyKc4"
   },
   "outputs": [],
   "source": [
    "b = [1,2,3]"
   ]
  },
  {
   "cell_type": "markdown",
   "metadata": {
    "colab_type": "text",
    "id": "Lugr9KHwyUGZ"
   },
   "source": [
    "Aplicando Operadores Matemáticos a Listas"
   ]
  },
  {
   "cell_type": "code",
   "execution_count": 2,
   "metadata": {
    "colab": {},
    "colab_type": "code",
    "id": "2pzuaAdMyMVz"
   },
   "outputs": [
    {
     "data": {
      "text/plain": [
       "[1, 2, 3, 1, 2, 3, 4, -2]"
      ]
     },
     "execution_count": 2,
     "metadata": {},
     "output_type": "execute_result"
    }
   ],
   "source": [
    "b + b + [4,-2]"
   ]
  },
  {
   "cell_type": "code",
   "execution_count": 3,
   "metadata": {
    "colab": {},
    "colab_type": "code",
    "id": "wJfuwm32yP3K"
   },
   "outputs": [
    {
     "data": {
      "text/plain": [
       "[1, 2, 3, 1, 2, 3, 1, 2, 3, 1, 2, 3]"
      ]
     },
     "execution_count": 3,
     "metadata": {},
     "output_type": "execute_result"
    }
   ],
   "source": [
    "b * 4"
   ]
  },
  {
   "cell_type": "markdown",
   "metadata": {
    "colab_type": "text",
    "id": "BuLegKfqyXti"
   },
   "source": [
    "Solución? For Loops?"
   ]
  },
  {
   "cell_type": "code",
   "execution_count": 4,
   "metadata": {
    "colab": {},
    "colab_type": "code",
    "id": "HzUrLTNkyaEI"
   },
   "outputs": [
    {
     "name": "stdout",
     "output_type": "stream",
     "text": [
      "1\n",
      "2\n",
      "3\n"
     ]
    }
   ],
   "source": [
    "for elemento in b:\n",
    "    print(elemento)"
   ]
  },
  {
   "cell_type": "code",
   "execution_count": 5,
   "metadata": {
    "colab": {},
    "colab_type": "code",
    "id": "6I8HjEjKyea7"
   },
   "outputs": [
    {
     "name": "stdout",
     "output_type": "stream",
     "text": [
      "2\n",
      "4\n",
      "6\n"
     ]
    }
   ],
   "source": [
    "for elemento in b:\n",
    "    print(elemento + elemento)"
   ]
  },
  {
   "cell_type": "markdown",
   "metadata": {
    "colab_type": "text",
    "id": "0JPqEG49yifH"
   },
   "source": [
    "Y si lo quiero guardar en otra variable (por ejemplo 'c = b+b')?\n",
    "\n",
    "Una forma es:\n",
    "* Definir una lista vacio\n",
    "* recorrer todos los elementos en b\n",
    "* sumarlos entre si y meterlos dentro de una lista ([elemento + elemento])\n",
    "* sumar esta lista a 'c' (**c \\+= algo** es lo mismo que **c = c + algo**)"
   ]
  },
  {
   "cell_type": "code",
   "execution_count": 6,
   "metadata": {
    "colab": {},
    "colab_type": "code",
    "id": "XT--J06nyj0u"
   },
   "outputs": [
    {
     "data": {
      "text/plain": [
       "[2, 4, 6]"
      ]
     },
     "execution_count": 6,
     "metadata": {},
     "output_type": "execute_result"
    }
   ],
   "source": [
    "c = []\n",
    "for elemento in b:\n",
    "    c += [elemento + elemento]\n",
    "c"
   ]
  },
  {
   "cell_type": "code",
   "execution_count": 7,
   "metadata": {
    "colab": {},
    "colab_type": "code",
    "id": "IAqPnmQUyoW0"
   },
   "outputs": [
    {
     "data": {
      "text/plain": [
       "[4, 8, 12]"
      ]
     },
     "execution_count": 7,
     "metadata": {},
     "output_type": "execute_result"
    }
   ],
   "source": [
    "c = []\n",
    "for elemento in b:\n",
    "    c += [elemento * 4]\n",
    "c"
   ]
  },
  {
   "cell_type": "markdown",
   "metadata": {
    "colab_type": "text",
    "id": "_3gakFJLy645"
   },
   "source": [
    "Alternativa??"
   ]
  },
  {
   "cell_type": "markdown",
   "metadata": {
    "colab_type": "text",
    "id": "OBpD3Ve7xLRE"
   },
   "source": [
    "# Librería Numpy\n",
    "\n",
    "Es el paquete de arrays mas comunmente usado en Python. La diferencia entre un array y una lista nativa es que el array es continuo en memoria mientras que la lista esta encadenada, haciendo que el array sea mucho mas rapido de leer y, por tanto, la estructura de datos natural para el procesamiento de grandes cantidades de datos"
   ]
  },
  {
   "cell_type": "code",
   "execution_count": 1,
   "metadata": {
    "colab": {},
    "colab_type": "code",
    "id": "D99BOYgHxLRH"
   },
   "outputs": [],
   "source": [
    "import numpy as np"
   ]
  },
  {
   "cell_type": "code",
   "execution_count": 22,
   "metadata": {
    "colab": {},
    "colab_type": "code",
    "id": "E7u8knbdxLRP"
   },
   "outputs": [
    {
     "data": {
      "text/plain": [
       "array([1, 2, 3, 4])"
      ]
     },
     "execution_count": 22,
     "metadata": {},
     "output_type": "execute_result"
    }
   ],
   "source": [
    "arr1 = np.array([1,2,3,4])\n",
    "arr1"
   ]
  },
  {
   "cell_type": "code",
   "execution_count": 20,
   "metadata": {
    "colab": {},
    "colab_type": "code",
    "id": "PoOFReZaxLRW"
   },
   "outputs": [
    {
     "data": {
      "text/plain": [
       "numpy.ndarray"
      ]
     },
     "execution_count": 20,
     "metadata": {},
     "output_type": "execute_result"
    }
   ],
   "source": [
    "type(arr1)"
   ]
  },
  {
   "cell_type": "code",
   "execution_count": 21,
   "metadata": {},
   "outputs": [
    {
     "data": {
      "text/plain": [
       "(4, 1)"
      ]
     },
     "execution_count": 21,
     "metadata": {},
     "output_type": "execute_result"
    }
   ],
   "source": [
    "arr1.shape"
   ]
  },
  {
   "cell_type": "code",
   "execution_count": 23,
   "metadata": {
    "colab": {},
    "colab_type": "code",
    "id": "-0haq5JBxLRa"
   },
   "outputs": [
    {
     "data": {
      "text/plain": [
       "array([2, 4, 6, 8])"
      ]
     },
     "execution_count": 23,
     "metadata": {},
     "output_type": "execute_result"
    }
   ],
   "source": [
    "arr1 + arr1"
   ]
  },
  {
   "cell_type": "code",
   "execution_count": 24,
   "metadata": {
    "colab": {},
    "colab_type": "code",
    "id": "XJMIrfXuxLRi"
   },
   "outputs": [
    {
     "data": {
      "text/plain": [
       "array([1., 1., 1., 1.])"
      ]
     },
     "execution_count": 24,
     "metadata": {},
     "output_type": "execute_result"
    }
   ],
   "source": [
    "arr1 / arr1"
   ]
  },
  {
   "cell_type": "code",
   "execution_count": 25,
   "metadata": {
    "colab": {},
    "colab_type": "code",
    "id": "RnchQO25xLRr"
   },
   "outputs": [
    {
     "data": {
      "text/plain": [
       "array([101, 102, 103, 104])"
      ]
     },
     "execution_count": 25,
     "metadata": {},
     "output_type": "execute_result"
    }
   ],
   "source": [
    "arr1 + 100"
   ]
  },
  {
   "cell_type": "markdown",
   "metadata": {
    "colab_type": "text",
    "id": "An3VYAhU_PAR"
   },
   "source": [
    "## Dimensiones\n",
    "\n",
    "Los arrays de numpy pueden ser unidimensionales (1D), bidimensionales (2D) o cuantas dimensiones quieran.\n"
   ]
  },
  {
   "cell_type": "code",
   "execution_count": 29,
   "metadata": {},
   "outputs": [
    {
     "data": {
      "text/plain": [
       "array([[0.33665459, 0.33767202, 0.63009958, 0.53733596, 0.16726119],\n",
       "       [0.56985189, 0.61613419, 0.16452916, 0.26305235, 0.736514  ],\n",
       "       [0.42986643, 0.44980695, 0.10212578, 0.68768191, 0.84670854]])"
      ]
     },
     "execution_count": 29,
     "metadata": {},
     "output_type": "execute_result"
    }
   ],
   "source": [
    "np.random.rand(3,5)"
   ]
  },
  {
   "cell_type": "code",
   "execution_count": 30,
   "metadata": {
    "colab": {},
    "colab_type": "code",
    "id": "GLIB9jK4_PAR"
   },
   "outputs": [],
   "source": [
    "data = np.round( np.random.rand(3,5) * 100 )"
   ]
  },
  {
   "cell_type": "code",
   "execution_count": 31,
   "metadata": {
    "colab": {},
    "colab_type": "code",
    "id": "zxbAMqfH_PAU"
   },
   "outputs": [
    {
     "data": {
      "text/plain": [
       "array([[ 9., 72., 96., 25., 77.],\n",
       "       [46., 68., 49., 88., 45.],\n",
       "       [53., 40., 96., 29., 77.]])"
      ]
     },
     "execution_count": 31,
     "metadata": {},
     "output_type": "execute_result"
    }
   ],
   "source": [
    "data"
   ]
  },
  {
   "cell_type": "code",
   "execution_count": 32,
   "metadata": {
    "colab": {},
    "colab_type": "code",
    "id": "FmWupwhp_PAX"
   },
   "outputs": [
    {
     "data": {
      "text/plain": [
       "array([[ 18., 144., 192.,  50., 154.],\n",
       "       [ 92., 136.,  98., 176.,  90.],\n",
       "       [106.,  80., 192.,  58., 154.]])"
      ]
     },
     "execution_count": 32,
     "metadata": {},
     "output_type": "execute_result"
    }
   ],
   "source": [
    "data * 2"
   ]
  },
  {
   "cell_type": "markdown",
   "metadata": {
    "colab_type": "text",
    "id": "gM_zQL58_PAc"
   },
   "source": [
    "Tamaño de 'data'"
   ]
  },
  {
   "cell_type": "code",
   "execution_count": 33,
   "metadata": {
    "colab": {},
    "colab_type": "code",
    "id": "YMs7J2pM_PAc"
   },
   "outputs": [
    {
     "data": {
      "text/plain": [
       "(3, 5)"
      ]
     },
     "execution_count": 33,
     "metadata": {},
     "output_type": "execute_result"
    }
   ],
   "source": [
    "data.shape"
   ]
  },
  {
   "cell_type": "markdown",
   "metadata": {
    "colab_type": "text",
    "id": "FPOowyKpxLR0"
   },
   "source": [
    "## Indexado\n",
    "\n",
    "El indexado en los ndarray funciona igual que el indexado de listas\n",
    "\n",
    "Los elementos de una ndarray se pueden acceder mediante su indice\n",
    "\n",
    "* Todos los indices empiezan en 0\n",
    "* Se usan numeros enteros\n",
    "* El indice maximo equivale a la (cantidad de elementos - 1)\n",
    "* Se accede al elemento con *indice*\n",
    "* Si el indice es negativo, se cuenta desde el final\n",
    "* Se puede hacer \"slicing\" con rangos de indices separados por dos puntos (:)\n",
    "* Se pueden usar indices negativos que cuentan desde atrás pero empezando en -1"
   ]
  },
  {
   "cell_type": "code",
   "execution_count": 34,
   "metadata": {
    "colab": {},
    "colab_type": "code",
    "id": "Rp5wPcNExLR2"
   },
   "outputs": [
    {
     "data": {
      "text/plain": [
       "1"
      ]
     },
     "execution_count": 34,
     "metadata": {},
     "output_type": "execute_result"
    }
   ],
   "source": [
    "arr1[0]"
   ]
  },
  {
   "cell_type": "code",
   "execution_count": 35,
   "metadata": {
    "colab": {},
    "colab_type": "code",
    "id": "ClJghAFvxLR-"
   },
   "outputs": [
    {
     "data": {
      "text/plain": [
       "4"
      ]
     },
     "execution_count": 35,
     "metadata": {},
     "output_type": "execute_result"
    }
   ],
   "source": [
    "arr1[3]"
   ]
  },
  {
   "cell_type": "code",
   "execution_count": 36,
   "metadata": {
    "colab": {},
    "colab_type": "code",
    "id": "GXBMPBmkxLSF"
   },
   "outputs": [
    {
     "ename": "IndexError",
     "evalue": "index 4 is out of bounds for axis 0 with size 4",
     "output_type": "error",
     "traceback": [
      "\u001b[0;31m---------------------------------------------------------------------------\u001b[0m",
      "\u001b[0;31mIndexError\u001b[0m                                Traceback (most recent call last)",
      "\u001b[0;32m<ipython-input-36-afd7cfe32612>\u001b[0m in \u001b[0;36m<module>\u001b[0;34m\u001b[0m\n\u001b[0;32m----> 1\u001b[0;31m \u001b[0marr1\u001b[0m\u001b[0;34m[\u001b[0m\u001b[0mlen\u001b[0m\u001b[0;34m(\u001b[0m\u001b[0marr1\u001b[0m\u001b[0;34m)\u001b[0m\u001b[0;34m]\u001b[0m\u001b[0;34m\u001b[0m\u001b[0;34m\u001b[0m\u001b[0m\n\u001b[0m",
      "\u001b[0;31mIndexError\u001b[0m: index 4 is out of bounds for axis 0 with size 4"
     ]
    }
   ],
   "source": [
    "arr1[len(arr1)]"
   ]
  },
  {
   "cell_type": "code",
   "execution_count": 37,
   "metadata": {
    "colab": {},
    "colab_type": "code",
    "id": "HNv5-mFOxLSM"
   },
   "outputs": [
    {
     "data": {
      "text/plain": [
       "4"
      ]
     },
     "execution_count": 37,
     "metadata": {},
     "output_type": "execute_result"
    }
   ],
   "source": [
    "arr1[len(arr1) - 1]"
   ]
  },
  {
   "cell_type": "code",
   "execution_count": 38,
   "metadata": {
    "colab": {},
    "colab_type": "code",
    "id": "3aRTKTMfxLSU"
   },
   "outputs": [
    {
     "data": {
      "text/plain": [
       "4"
      ]
     },
     "execution_count": 38,
     "metadata": {},
     "output_type": "execute_result"
    }
   ],
   "source": [
    "arr1[-1]"
   ]
  },
  {
   "cell_type": "code",
   "execution_count": 39,
   "metadata": {
    "colab": {},
    "colab_type": "code",
    "id": "-OnL7X7qxLSc"
   },
   "outputs": [],
   "source": [
    "arr2d = np.array([[1, 2, 3],\n",
    "                  [4, 5, 6],\n",
    "                  [7, 8, 9]])"
   ]
  },
  {
   "cell_type": "code",
   "execution_count": 40,
   "metadata": {
    "colab": {},
    "colab_type": "code",
    "id": "CdWsf_fPxLSp"
   },
   "outputs": [
    {
     "data": {
      "text/plain": [
       "array([[1, 2, 3],\n",
       "       [4, 5, 6],\n",
       "       [7, 8, 9]])"
      ]
     },
     "execution_count": 40,
     "metadata": {},
     "output_type": "execute_result"
    }
   ],
   "source": [
    "arr2d"
   ]
  },
  {
   "cell_type": "code",
   "execution_count": 41,
   "metadata": {
    "colab": {},
    "colab_type": "code",
    "id": "d0BOY-y5xLSv"
   },
   "outputs": [
    {
     "data": {
      "text/plain": [
       "array([[1, 2, 3]])"
      ]
     },
     "execution_count": 41,
     "metadata": {},
     "output_type": "execute_result"
    }
   ],
   "source": [
    "arr2d[:1]"
   ]
  },
  {
   "cell_type": "code",
   "execution_count": 45,
   "metadata": {
    "colab": {},
    "colab_type": "code",
    "id": "59bha9y-xLS2"
   },
   "outputs": [
    {
     "data": {
      "text/plain": [
       "array([[1, 2]])"
      ]
     },
     "execution_count": 45,
     "metadata": {},
     "output_type": "execute_result"
    }
   ],
   "source": [
    "arr2d[:1, 0:2]"
   ]
  },
  {
   "cell_type": "code",
   "execution_count": 27,
   "metadata": {
    "colab": {},
    "colab_type": "code",
    "id": "m-EcqOEJxLS5"
   },
   "outputs": [
    {
     "data": {
      "text/plain": [
       "array([4, 5])"
      ]
     },
     "execution_count": 27,
     "metadata": {},
     "output_type": "execute_result"
    }
   ],
   "source": [
    "arr2d[1, :2]"
   ]
  },
  {
   "cell_type": "code",
   "execution_count": 28,
   "metadata": {
    "colab": {},
    "colab_type": "code",
    "id": "KbO7RdGtxLS8"
   },
   "outputs": [
    {
     "data": {
      "text/plain": [
       "array([2, 5, 8])"
      ]
     },
     "execution_count": 28,
     "metadata": {},
     "output_type": "execute_result"
    }
   ],
   "source": [
    "arr2d[:, 1]"
   ]
  },
  {
   "cell_type": "markdown",
   "metadata": {
    "colab_type": "text",
    "id": "aBsjHncpxLTA"
   },
   "source": [
    "## Funciones de agregación\n",
    "\n",
    "Suelen expresarse como métodos del objeto array. En general, tienen como consecuencia disminuir las dimensiones del arreglo y son muy utilizados en matemáticas y física. <br>\n",
    "La siguiente tabla muestra los más utilizados, puede encontrar la documentación [aquí](https://docs.scipy.org/doc/numpy-1.13.0/reference/arrays.ndarray.html#calculation).\n",
    "\n",
    "| Operación | Descripción |\n",
    "|:----------|:------------|\n",
    "| `a.sum()`    | Retorna la suma del arreglo en el eje dado |\n",
    "| `a.min()`    | Retorna el valor mínimo de un eje |\n",
    "| `a.mean()`   | Retorna la media aritmética en un eje dado |\n",
    "| `a.var()`    | Retorna la varianza en un eje dado|\n",
    "| `a.std()`    | Retorna la desviación estándar en un eje dado |\n",
    "| `a.prod()`   | Retorna el producto en un eje dado |\n",
    "| `a.argmin()` | Retorna el índice donde ocurren los valores mínimos de cada eje |\n",
    "| `a.ptp()`    | Valor pico a pico en un eje |\n",
    "| `a.conj()`   | Retorna el conjugado complejo de todos los elementos |\n",
    "| `a.round()`  | Retorna el valor redondeado de cada elemento |\n",
    "| `a.trace()`  | Retorna la suma de las diagonales del arreglo |\n",
    "| `a.argmax()` | Retorna el índice donde ocurren los valores máximos de cada eje |\n",
    "| `a.cumsum()` | Retorna la suma acumulativa en un eje dado |\n",
    "| `a.cumprod()`| Retorna el producto acumulativo en un eje dado |"
   ]
  },
  {
   "cell_type": "code",
   "execution_count": 29,
   "metadata": {
    "colab": {},
    "colab_type": "code",
    "id": "sIRZ_CsvxLTA"
   },
   "outputs": [
    {
     "data": {
      "text/plain": [
       "2.5"
      ]
     },
     "execution_count": 29,
     "metadata": {},
     "output_type": "execute_result"
    }
   ],
   "source": [
    "arr1.mean()"
   ]
  },
  {
   "cell_type": "code",
   "execution_count": 30,
   "metadata": {
    "colab": {},
    "colab_type": "code",
    "id": "MZrPXcATxLTE"
   },
   "outputs": [
    {
     "data": {
      "text/plain": [
       "1.118033988749895"
      ]
     },
     "execution_count": 30,
     "metadata": {},
     "output_type": "execute_result"
    }
   ],
   "source": [
    "arr1.std()"
   ]
  },
  {
   "cell_type": "code",
   "execution_count": 48,
   "metadata": {
    "colab": {},
    "colab_type": "code",
    "id": "WXIKvNdlxLTH"
   },
   "outputs": [
    {
     "data": {
      "text/plain": [
       "(3, 3)"
      ]
     },
     "execution_count": 48,
     "metadata": {},
     "output_type": "execute_result"
    }
   ],
   "source": [
    "arr2d.shape"
   ]
  },
  {
   "cell_type": "code",
   "execution_count": 47,
   "metadata": {
    "colab": {},
    "colab_type": "code",
    "id": "pT9GKcSVxLTL"
   },
   "outputs": [
    {
     "data": {
      "text/plain": [
       "9"
      ]
     },
     "execution_count": 47,
     "metadata": {},
     "output_type": "execute_result"
    }
   ],
   "source": [
    "arr2d.size"
   ]
  },
  {
   "cell_type": "code",
   "execution_count": 49,
   "metadata": {
    "colab": {},
    "colab_type": "code",
    "id": "v9DveLnvxLTP"
   },
   "outputs": [
    {
     "data": {
      "text/plain": [
       "array([[1., 1., 1.],\n",
       "       [1., 1., 1.]])"
      ]
     },
     "execution_count": 49,
     "metadata": {},
     "output_type": "execute_result"
    }
   ],
   "source": [
    "arr2 = np.ones((2, 3))\n",
    "arr2"
   ]
  },
  {
   "cell_type": "code",
   "execution_count": 34,
   "metadata": {
    "colab": {},
    "colab_type": "code",
    "id": "4qiq5xJQ8LW6"
   },
   "outputs": [
    {
     "data": {
      "text/plain": [
       "3"
      ]
     },
     "execution_count": 34,
     "metadata": {},
     "output_type": "execute_result"
    }
   ],
   "source": [
    "arr1.argmax()"
   ]
  },
  {
   "cell_type": "code",
   "execution_count": 35,
   "metadata": {
    "colab": {},
    "colab_type": "code",
    "id": "U83l3jIVxLTS"
   },
   "outputs": [
    {
     "data": {
      "text/plain": [
       "(2, 3)"
      ]
     },
     "execution_count": 35,
     "metadata": {},
     "output_type": "execute_result"
    }
   ],
   "source": [
    "arr2.shape"
   ]
  },
  {
   "cell_type": "code",
   "execution_count": 36,
   "metadata": {
    "colab": {},
    "colab_type": "code",
    "id": "3bciJC6QxLTW"
   },
   "outputs": [
    {
     "data": {
      "text/plain": [
       "6"
      ]
     },
     "execution_count": 36,
     "metadata": {},
     "output_type": "execute_result"
    }
   ],
   "source": [
    "arr2.size"
   ]
  },
  {
   "cell_type": "code",
   "execution_count": 37,
   "metadata": {
    "colab": {},
    "colab_type": "code",
    "id": "6v-j-IwDxLTZ"
   },
   "outputs": [
    {
     "data": {
      "text/plain": [
       "2"
      ]
     },
     "execution_count": 37,
     "metadata": {},
     "output_type": "execute_result"
    }
   ],
   "source": [
    "len(arr2)"
   ]
  },
  {
   "cell_type": "markdown",
   "metadata": {
    "colab_type": "text",
    "id": "dtsSUUSXxLTd"
   },
   "source": [
    "## Funciones universales\n",
    "\n",
    "Son funciones optimizadas que operan sobre el array. Dificilmente vamos a necesitar hacer algo que no este ya implementado, la lista completa de funciones universales en este [enlace](https://docs.scipy.org/doc/numpy-1.13.0/reference/ufuncs.html#math-operations)"
   ]
  },
  {
   "cell_type": "markdown",
   "metadata": {
    "colab_type": "text",
    "id": "ULGS-Qy6xLTd"
   },
   "source": [
    "### Funciones para crear ndarrays\n",
    "\n",
    "Hay muchas formas de crear arreglos en Numpy, puede explorarlas todas en este [enlace](https://docs.scipy.org/doc/numpy-1.13.0/reference/routines.array-creation.html). Las más comunes son:\n",
    "\n",
    "| Función | Descripción |\n",
    "|:--------|:------------|\n",
    "| `empty` | Arreglo vacio |\n",
    "| `zeros` | Arreglo de ceros |\n",
    "| `ones`  | Arreglo de unos |\n",
    "| `full`  | Se especifica un valor para llenar todo el arreglo con él |\n",
    "| `identity` | Unos en la diagonal y cero en el resto |\n",
    "| `array` | Constructor genérico |\n",
    "| `fromfunction` | Según una función dada que retorna un valor para cada punto de la coordenada |\n",
    "| `loadtxt` | Carga los datos de un archivo |"
   ]
  },
  {
   "cell_type": "code",
   "execution_count": 38,
   "metadata": {
    "colab": {},
    "colab_type": "code",
    "id": "3oqmmTcMxLTe"
   },
   "outputs": [
    {
     "data": {
      "text/plain": [
       "array([1., 1., 1.])"
      ]
     },
     "execution_count": 38,
     "metadata": {},
     "output_type": "execute_result"
    }
   ],
   "source": [
    "np.ones(3)"
   ]
  },
  {
   "cell_type": "code",
   "execution_count": 39,
   "metadata": {
    "colab": {},
    "colab_type": "code",
    "id": "py63Pi48xLTh"
   },
   "outputs": [
    {
     "data": {
      "text/plain": [
       "array([[10, 10, 10, 10, 10],\n",
       "       [10, 10, 10, 10, 10]])"
      ]
     },
     "execution_count": 39,
     "metadata": {},
     "output_type": "execute_result"
    }
   ],
   "source": [
    "np.full([2,5], fill_value=10)"
   ]
  },
  {
   "cell_type": "markdown",
   "metadata": {
    "colab_type": "text",
    "id": "we6fyUhF4TU8"
   },
   "source": [
    "# Ejercicios"
   ]
  },
  {
   "cell_type": "markdown",
   "metadata": {
    "colab_type": "text",
    "id": "SYvqbJHa4U5b"
   },
   "source": [
    "\n",
    "\n",
    "1.   Crear un array de 100 números aleatorios con valores de -100 a +100. \n",
    "\n",
    "\n",
    "\n",
    "\n",
    "\n"
   ]
  },
  {
   "cell_type": "code",
   "execution_count": 4,
   "metadata": {
    "colab": {},
    "colab_type": "code",
    "id": "u5qG2KWP4pel"
   },
   "outputs": [
    {
     "name": "stdout",
     "output_type": "stream",
     "text": [
      "[ 86.01057728 -48.54700825  80.33888074 -53.88050289  -0.16304987\n",
      "  35.7562857  -93.92854088 -31.02706543  39.78392568  95.12459184\n",
      " -37.72257847  87.44351018  53.12370041  26.46750359  62.60124248\n",
      "  57.34599718   1.99792361 -90.87535998 -25.59915516  66.46942096\n",
      "   5.47426915 -82.75429481   3.24170448  26.02461026  -1.74989084\n",
      "  54.85511339  45.83223913 -89.74116128 -97.18778674   8.45084503\n",
      " -28.46963835  50.39318588  94.08118996 -87.9936446  -10.39001742\n",
      " -16.31094822 -11.35706617  42.65881948  41.74529843 -55.6603982\n",
      "  -8.04832161  91.3813894  -45.59023056  31.63729561 -53.63104701\n",
      "   0.1349397  -68.62677782  52.87158314  64.86612595  12.88335406\n",
      " -48.66799931  38.58381116 -33.34203165 -93.79986754 -89.07927988\n",
      "  67.81344477  26.50532235  93.69540348 -36.98234072  28.7328203\n",
      "   6.49671192  46.92307807  77.50440587  13.18969637  59.98644134\n",
      "  15.34442386  15.08684422  88.22987711 -72.56916328 -11.34222741\n",
      " -55.90306869  54.99201894  43.00621874  39.58792313 -29.15173189\n",
      " -60.00071151  14.17646124 -39.25479465  81.22140201  59.31013229\n",
      " -33.38641936  97.49891444  48.15432095  58.72963904 -78.78492927\n",
      "  55.89542318  95.6659721   39.19121062 -55.48227956  46.84179788\n",
      "  12.09315344   3.30029881 -80.06397432  56.17961215  19.28172229\n",
      " -98.88967962   2.80876214 -80.55460857  24.02731177 -32.36591185]\n"
     ]
    }
   ],
   "source": [
    "array1=np.random.rand(100)*200-100\n",
    "print(array1)"
   ]
  },
  {
   "cell_type": "markdown",
   "metadata": {
    "colab_type": "text",
    "id": "v1F35TCC4qAv"
   },
   "source": [
    "\n",
    "2.   Usando arrays de booleanos crear otros 3 arrays que contengan los positivos, los negativos y los mayores de 50 de ese array."
   ]
  },
  {
   "cell_type": "code",
   "execution_count": 7,
   "metadata": {},
   "outputs": [
    {
     "data": {
      "text/plain": [
       "array([-48.54700825, -53.88050289,  -0.16304987, -93.92854088,\n",
       "       -31.02706543, -37.72257847, -90.87535998, -25.59915516,\n",
       "       -82.75429481,  -1.74989084, -89.74116128, -97.18778674,\n",
       "       -28.46963835, -87.9936446 , -10.39001742, -16.31094822,\n",
       "       -11.35706617, -55.6603982 ,  -8.04832161, -45.59023056,\n",
       "       -53.63104701, -68.62677782, -48.66799931, -33.34203165,\n",
       "       -93.79986754, -89.07927988, -36.98234072, -72.56916328,\n",
       "       -11.34222741, -55.90306869, -29.15173189, -60.00071151,\n",
       "       -39.25479465, -33.38641936, -78.78492927, -55.48227956,\n",
       "       -80.06397432, -98.88967962, -80.55460857, -32.36591185])"
      ]
     },
     "execution_count": 7,
     "metadata": {},
     "output_type": "execute_result"
    }
   ],
   "source": [
    "array1[array1<0]"
   ]
  },
  {
   "cell_type": "code",
   "execution_count": 8,
   "metadata": {},
   "outputs": [
    {
     "data": {
      "text/plain": [
       "array([86.01057728, 80.33888074, 35.7562857 , 39.78392568, 95.12459184,\n",
       "       87.44351018, 53.12370041, 26.46750359, 62.60124248, 57.34599718,\n",
       "        1.99792361, 66.46942096,  5.47426915,  3.24170448, 26.02461026,\n",
       "       54.85511339, 45.83223913,  8.45084503, 50.39318588, 94.08118996,\n",
       "       42.65881948, 41.74529843, 91.3813894 , 31.63729561,  0.1349397 ,\n",
       "       52.87158314, 64.86612595, 12.88335406, 38.58381116, 67.81344477,\n",
       "       26.50532235, 93.69540348, 28.7328203 ,  6.49671192, 46.92307807,\n",
       "       77.50440587, 13.18969637, 59.98644134, 15.34442386, 15.08684422,\n",
       "       88.22987711, 54.99201894, 43.00621874, 39.58792313, 14.17646124,\n",
       "       81.22140201, 59.31013229, 97.49891444, 48.15432095, 58.72963904,\n",
       "       55.89542318, 95.6659721 , 39.19121062, 46.84179788, 12.09315344,\n",
       "        3.30029881, 56.17961215, 19.28172229,  2.80876214, 24.02731177])"
      ]
     },
     "execution_count": 8,
     "metadata": {},
     "output_type": "execute_result"
    }
   ],
   "source": [
    "array1[array1>0]"
   ]
  },
  {
   "cell_type": "code",
   "execution_count": 9,
   "metadata": {
    "colab": {},
    "colab_type": "code",
    "id": "yc_DUCQn4q2V"
   },
   "outputs": [
    {
     "data": {
      "text/plain": [
       "array([86.01057728, 80.33888074, 95.12459184, 87.44351018, 53.12370041,\n",
       "       62.60124248, 57.34599718, 66.46942096, 54.85511339, 50.39318588,\n",
       "       94.08118996, 91.3813894 , 52.87158314, 64.86612595, 67.81344477,\n",
       "       93.69540348, 77.50440587, 59.98644134, 88.22987711, 54.99201894,\n",
       "       81.22140201, 59.31013229, 97.49891444, 58.72963904, 55.89542318,\n",
       "       95.6659721 , 56.17961215])"
      ]
     },
     "execution_count": 9,
     "metadata": {},
     "output_type": "execute_result"
    }
   ],
   "source": [
    "array1[array1>50]"
   ]
  },
  {
   "cell_type": "markdown",
   "metadata": {
    "colab_type": "text",
    "id": "zg5a3cB54zgf"
   },
   "source": [
    "3.   Crear un array bidimensional 5x5 con todos los valores cero. Usando el indexado de arrays, asigna 1 a todos los elementos de la última fila y 5 a todos los elementos de la primera columna. Finalmente, asigna el valor 100 a todos los elementos del subarray central 3x3 de la matriz de 5x5."
   ]
  },
  {
   "cell_type": "code",
   "execution_count": 15,
   "metadata": {
    "colab": {},
    "colab_type": "code",
    "id": "eNxFHLgI7aAH"
   },
   "outputs": [
    {
     "name": "stdout",
     "output_type": "stream",
     "text": [
      "[[0. 0. 0. 0. 0.]\n",
      " [0. 0. 0. 0. 0.]\n",
      " [0. 0. 0. 0. 0.]\n",
      " [0. 0. 0. 0. 0.]\n",
      " [0. 0. 0. 0. 0.]]\n",
      "\n",
      "[[0. 0. 0. 0. 0.]\n",
      " [0. 0. 0. 0. 0.]\n",
      " [0. 0. 0. 0. 0.]\n",
      " [0. 0. 0. 0. 0.]\n",
      " [1. 1. 1. 1. 1.]]\n",
      "\n",
      "[[5. 0. 0. 0. 0.]\n",
      " [5. 0. 0. 0. 0.]\n",
      " [5. 0. 0. 0. 0.]\n",
      " [5. 0. 0. 0. 0.]\n",
      " [5. 1. 1. 1. 1.]]\n",
      "\n",
      "[[  5.   0.   0.   0.   0.]\n",
      " [  5. 100. 100. 100.   0.]\n",
      " [  5. 100. 100. 100.   0.]\n",
      " [  5. 100. 100. 100.   0.]\n",
      " [  5.   1.   1.   1.   1.]]\n"
     ]
    }
   ],
   "source": [
    "matriz=np.zeros((5,5))\n",
    "print(matriz)\n",
    "print()\n",
    "matriz[-1,:]=1\n",
    "print(matriz)\n",
    "print()\n",
    "matriz[:,0]=5\n",
    "print(matriz)\n",
    "print()\n",
    "matriz[1:4,1:4]=100\n",
    "print(matriz)"
   ]
  },
  {
   "cell_type": "markdown",
   "metadata": {
    "colab_type": "text",
    "id": "K3b5dKsn7jEO"
   },
   "source": [
    "4.   Crear una matriz de 10 x 3 con valores aleatorios entre cero y uno\n",
    "\n"
   ]
  },
  {
   "cell_type": "code",
   "execution_count": 20,
   "metadata": {
    "colab": {},
    "colab_type": "code",
    "id": "bXR3mAkY7xJr"
   },
   "outputs": [
    {
     "data": {
      "text/plain": [
       "array([[1, 1, 0],\n",
       "       [1, 1, 0],\n",
       "       [1, 1, 1],\n",
       "       [1, 1, 1],\n",
       "       [0, 1, 0],\n",
       "       [1, 1, 0],\n",
       "       [1, 0, 0],\n",
       "       [0, 0, 0],\n",
       "       [1, 0, 1],\n",
       "       [0, 0, 1]])"
      ]
     },
     "execution_count": 20,
     "metadata": {},
     "output_type": "execute_result"
    }
   ],
   "source": [
    "np.random.randint(low=0,high=2, size=(10, 3))"
   ]
  },
  {
   "cell_type": "markdown",
   "metadata": {
    "colab_type": "text",
    "id": "oMjbP0N07xhf"
   },
   "source": [
    "\n",
    "5.   Buscar el valor mínimo de la matriz"
   ]
  },
  {
   "cell_type": "code",
   "execution_count": 22,
   "metadata": {
    "colab": {},
    "colab_type": "code",
    "id": "kMBMIAlr73Az"
   },
   "outputs": [
    {
     "data": {
      "text/plain": [
       "0.0"
      ]
     },
     "execution_count": 22,
     "metadata": {},
     "output_type": "execute_result"
    }
   ],
   "source": [
    "matriz.min()"
   ]
  },
  {
   "cell_type": "markdown",
   "metadata": {
    "colab_type": "text",
    "id": "XAW8IQgO73WL"
   },
   "source": [
    "6.   Buscar la posición (indice) del valor mínimo de la matriz"
   ]
  },
  {
   "cell_type": "code",
   "execution_count": 23,
   "metadata": {
    "colab": {},
    "colab_type": "code",
    "id": "iaMPaBPw77QZ"
   },
   "outputs": [
    {
     "data": {
      "text/plain": [
       "(array([0, 0, 0, 0, 1, 2, 3]), array([1, 2, 3, 4, 4, 4, 4]))"
      ]
     },
     "execution_count": 23,
     "metadata": {},
     "output_type": "execute_result"
    }
   ],
   "source": [
    "np.where(matriz==0)"
   ]
  },
  {
   "cell_type": "code",
   "execution_count": null,
   "metadata": {},
   "outputs": [],
   "source": []
  }
 ],
 "metadata": {
  "colab": {
   "include_colab_link": true,
   "name": "03_manejo_de_datos-numpy.ipynb",
   "provenance": []
  },
  "kernelspec": {
   "display_name": "Python 3",
   "language": "python",
   "name": "python3"
  },
  "language_info": {
   "codemirror_mode": {
    "name": "ipython",
    "version": 3
   },
   "file_extension": ".py",
   "mimetype": "text/x-python",
   "name": "python",
   "nbconvert_exporter": "python",
   "pygments_lexer": "ipython3",
   "version": "3.7.6"
  }
 },
 "nbformat": 4,
 "nbformat_minor": 1
}
