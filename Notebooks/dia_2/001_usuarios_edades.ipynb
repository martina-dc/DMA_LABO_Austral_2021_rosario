{
 "cells": [
  {
   "cell_type": "markdown",
   "metadata": {},
   "source": [
    "## Laboratorio de implementacion - Usuarios app"
   ]
  },
  {
   "cell_type": "code",
   "execution_count": null,
   "metadata": {},
   "outputs": [],
   "source": [
    "import pandas as pd #importo la librería para trabajar con datos\n",
    "import numpy as np #importo la librería para procesar matrices\n",
    "from matplotlib import pyplot as plt #importo las librerías para graficar"
   ]
  },
  {
   "cell_type": "markdown",
   "metadata": {},
   "source": [
    "### Primer paso: cargamos el archivo y lo exploramos un poco\n",
    "En el repositorio <a href=\"https://github.com/andresdambrosio/DMA_LABO_Austral_2021_rosario\" title=\"DMA_LABO_Austral_2021_Rosario\">DMA_LABO_Austral_2021_Rosario</a> existe una carpeta `data`. Adentro hay un archivo `usuarioapp.csv`. Cargarlo en la siguiente linea en un file de pandas directamente desde el REPO (no lo descargues)"
   ]
  },
  {
   "cell_type": "code",
   "execution_count": null,
   "metadata": {},
   "outputs": [],
   "source": [
    "path='https://raw.githubusercontent.com/andresdambrosio/DMA_LABO_Austral_2021_rosario/main/Data/usuariosapp.csv'\n",
    "usuarios=pd.read_csv(path,sep=';') #cargo un pandas dataframe con la info del archivo"
   ]
  },
  {
   "cell_type": "code",
   "execution_count": null,
   "metadata": {},
   "outputs": [],
   "source": [
    "#veo que hay en los primeros 5 registros del dataframe\n",
    "usuarios.head()"
   ]
  },
  {
   "cell_type": "code",
   "execution_count": null,
   "metadata": {},
   "outputs": [],
   "source": [
    "#Largo del dataset\n",
    "len(usuarios)"
   ]
  },
  {
   "cell_type": "code",
   "execution_count": null,
   "metadata": {},
   "outputs": [],
   "source": [
    "#Cantidad de valores no nulos por columna\n",
    "usuarios.count()"
   ]
  },
  {
   "cell_type": "code",
   "execution_count": null,
   "metadata": {},
   "outputs": [],
   "source": [
    "#veo los tipos de cada columna\n",
    "usuarios.dtypes"
   ]
  },
  {
   "cell_type": "code",
   "execution_count": null,
   "metadata": {},
   "outputs": [],
   "source": [
    "#veo que hay en status\n",
    "usuarios.Status.unique()"
   ]
  },
  {
   "cell_type": "code",
   "execution_count": null,
   "metadata": {},
   "outputs": [],
   "source": [
    "#veo que hay en Sexo\n",
    "usuarios.Sexo.unique()"
   ]
  },
  {
   "cell_type": "code",
   "execution_count": null,
   "metadata": {},
   "outputs": [],
   "source": [
    "#veo que valores hay en DNI\n",
    "usuarios.DNI.head(20)"
   ]
  },
  {
   "cell_type": "code",
   "execution_count": null,
   "metadata": {},
   "outputs": [],
   "source": [
    "#Veamos el tipo de datos del primer registro\n",
    "print(usuarios.DNI[0])\n",
    "print('El tipo de datos es ' , type(usuarios.DNI[0]))"
   ]
  },
  {
   "cell_type": "code",
   "execution_count": null,
   "metadata": {},
   "outputs": [],
   "source": [
    "#Intento transforma la columna DNI a números\n",
    "pd.to_numeric(usuarios.DNI)"
   ]
  },
  {
   "cell_type": "code",
   "execution_count": null,
   "metadata": {},
   "outputs": [],
   "source": [
    "#veamos que hay en la posición 64\n",
    "usuarios.iloc[64]"
   ]
  },
  {
   "cell_type": "code",
   "execution_count": null,
   "metadata": {},
   "outputs": [],
   "source": [
    "#Veamos cuántos registros contienen alguna letra\n",
    "np.sum(usuarios['DNI'].str.contains('[a-zA-Z]').dropna())"
   ]
  },
  {
   "cell_type": "code",
   "execution_count": null,
   "metadata": {},
   "outputs": [],
   "source": [
    "#Veamos que hay en las columnas nulas\n",
    "usuarios[usuarios['DNI'].str.contains('[a-zA-Z]').fillna(False)]"
   ]
  },
  {
   "cell_type": "markdown",
   "metadata": {},
   "source": [
    "### ¿Qué hacemos con los nulos?"
   ]
  },
  {
   "cell_type": "code",
   "execution_count": null,
   "metadata": {},
   "outputs": [],
   "source": [
    "#Nos quedamos con los que no tienen texto en DNI\n",
    "usuarios_tf=usuarios[~usuarios['DNI'].str.contains('[a-zA-Z]').fillna(False)]"
   ]
  },
  {
   "cell_type": "code",
   "execution_count": null,
   "metadata": {},
   "outputs": [],
   "source": [
    "#Me quedo con los que no tienen nulos en DNI\n",
    "usuarios_tf=usuarios_tf.dropna(subset=['DNI'])"
   ]
  },
  {
   "cell_type": "code",
   "execution_count": null,
   "metadata": {},
   "outputs": [],
   "source": [
    "usuarios_tf.DNI=pd.to_numeric(usuarios_tf.DNI) #convierto DNI a número\n",
    "usuarios_tf.Status=usuarios_tf.Status.convert_dtypes() #convierto Status a string\n",
    "usuarios_tf.Sexo=usuarios_tf.Sexo.convert_dtypes() #convierto Sexo a string"
   ]
  },
  {
   "cell_type": "code",
   "execution_count": null,
   "metadata": {},
   "outputs": [],
   "source": [
    "#Verifico los tipos de datos\n",
    "usuarios_tf.dtypes"
   ]
  },
  {
   "cell_type": "code",
   "execution_count": null,
   "metadata": {},
   "outputs": [],
   "source": [
    "#Conteo por columnas, veo que en Sexo hay varios nulos\n",
    "usuarios_tf.count()"
   ]
  },
  {
   "cell_type": "code",
   "execution_count": null,
   "metadata": {},
   "outputs": [],
   "source": [
    "#Elimino la columna sexo porque el tp no requiere nada con esa variable\n",
    "usuarios_tf.drop('Sexo',axis=1,inplace=True)"
   ]
  },
  {
   "cell_type": "code",
   "execution_count": null,
   "metadata": {},
   "outputs": [],
   "source": [
    "usuarios_tf.count()"
   ]
  },
  {
   "cell_type": "code",
   "execution_count": null,
   "metadata": {},
   "outputs": [],
   "source": [
    "#¿Quedaron nulos?\n",
    "np.sum(usuarios_tf.isna())"
   ]
  },
  {
   "cell_type": "code",
   "execution_count": null,
   "metadata": {},
   "outputs": [],
   "source": [
    "#¿cuántos DNI mayores a 90 millones hay?\n",
    "np.sum(usuarios_tf.DNI>90000000)"
   ]
  },
  {
   "cell_type": "code",
   "execution_count": null,
   "metadata": {},
   "outputs": [],
   "source": [
    "usuarios_tf.DNI.hist()"
   ]
  },
  {
   "cell_type": "markdown",
   "metadata": {},
   "source": [
    "### ¿Qué hacemos con los outliers en este caso?"
   ]
  },
  {
   "cell_type": "code",
   "execution_count": null,
   "metadata": {},
   "outputs": [],
   "source": [
    "#Nos quedamos con los usuarios que no tienen DNI extranjero y con aquellos usuarios que están activos\n",
    "usuarios_tf=usuarios_tf[usuarios_tf.DNI<90000000]\n",
    "usuarios_tf=usuarios_tf[usuarios_tf.Status=='A']"
   ]
  },
  {
   "cell_type": "code",
   "execution_count": null,
   "metadata": {},
   "outputs": [],
   "source": [
    "#Vemos como nos quedo la base de datos\n",
    "usuarios_tf.count()"
   ]
  },
  {
   "cell_type": "code",
   "execution_count": null,
   "metadata": {},
   "outputs": [],
   "source": [
    "#Calculamos edades\n",
    "usuarios_tf['Edades']=-0.0000014545*usuarios_tf.DNI+81.3217765310"
   ]
  },
  {
   "cell_type": "code",
   "execution_count": null,
   "metadata": {},
   "outputs": [],
   "source": [
    "#Redondeamos a 0 decimales\n",
    "usuarios_tf.Edades=usuarios_tf.Edades.round(decimals=0)"
   ]
  },
  {
   "cell_type": "code",
   "execution_count": null,
   "metadata": {},
   "outputs": [],
   "source": [
    "#Convertimos la columna a enteros\n",
    "usuarios_tf['Edades']=usuarios_tf['Edades'].astype(np.int64)"
   ]
  },
  {
   "cell_type": "code",
   "execution_count": null,
   "metadata": {},
   "outputs": [],
   "source": [
    "#Veamos como quedaron los tipos de las columnas\n",
    "usuarios_tf.dtypes"
   ]
  },
  {
   "cell_type": "code",
   "execution_count": null,
   "metadata": {},
   "outputs": [],
   "source": [
    "usuarios_tf.describe()"
   ]
  },
  {
   "cell_type": "code",
   "execution_count": null,
   "metadata": {},
   "outputs": [],
   "source": [
    "#Armamos rangos de edad\n",
    "usuarios_tf['rango_edad']=np.select(\n",
    "    [\n",
    "        usuarios_tf['Edades'].between(0, 19, inclusive=True), \n",
    "        usuarios_tf['Edades'].between(20, 24, inclusive=True),\n",
    "        usuarios_tf['Edades'].between(25, 29, inclusive=True),\n",
    "        usuarios_tf['Edades'].between(30, 34, inclusive=True),\n",
    "        usuarios_tf['Edades'].between(35, 39, inclusive=True),\n",
    "        usuarios_tf['Edades'].between(40, 44, inclusive=True),\n",
    "        usuarios_tf['Edades'].between(45, 49, inclusive=True),\n",
    "        usuarios_tf['Edades'].between(50, 54, inclusive=True),\n",
    "        usuarios_tf['Edades'].between(55, 59, inclusive=True),\n",
    "        usuarios_tf['Edades'].between(60, 64, inclusive=True),\n",
    "        usuarios_tf['Edades'].between(65, 69, inclusive=True),\n",
    "        usuarios_tf['Edades'].between(70, 74, inclusive=True),\n",
    "        usuarios_tf['Edades'].between(76, 2000, inclusive=True)\n",
    "    ],\n",
    "    [\n",
    "        '0-20', \n",
    "        '20-25',\n",
    "        '25-30',\n",
    "        '30-35',\n",
    "        '35-40',\n",
    "        '40-45',\n",
    "        '45-50',\n",
    "        '50-55',\n",
    "        '55-60',\n",
    "        '60-65',\n",
    "        '65-70',\n",
    "        '70-75',\n",
    "        '75'        \n",
    "    ], \n",
    "    default='Unknown'\n",
    ")"
   ]
  },
  {
   "cell_type": "code",
   "execution_count": null,
   "metadata": {},
   "outputs": [],
   "source": [
    "#Armamos una tabla pivot\n",
    "pd.pivot_table(usuarios_tf,values='Edades',index=['rango_edad'],aggfunc='count').sort_values(by='rango_edad')"
   ]
  },
  {
   "cell_type": "code",
   "execution_count": null,
   "metadata": {},
   "outputs": [],
   "source": [
    "#Exportamos los resultados a un excel para graficar\n",
    "usuarios_tf.to_excel('test.xlsx')"
   ]
  },
  {
   "cell_type": "code",
   "execution_count": null,
   "metadata": {},
   "outputs": [],
   "source": [
    "#Armamos una tabla pivot\n",
    "pd.pivot_table(usuarios_tf,values='Edades',index=['rango_edad'],aggfunc='count').plot(kind='bar')"
   ]
  },
  {
   "cell_type": "code",
   "execution_count": null,
   "metadata": {},
   "outputs": [],
   "source": []
  }
 ],
 "metadata": {
  "kernelspec": {
   "display_name": "Python 3",
   "language": "python",
   "name": "python3"
  },
  "language_info": {
   "codemirror_mode": {
    "name": "ipython",
    "version": 3
   },
   "file_extension": ".py",
   "mimetype": "text/x-python",
   "name": "python",
   "nbconvert_exporter": "python",
   "pygments_lexer": "ipython3",
   "version": "3.7.6"
  }
 },
 "nbformat": 4,
 "nbformat_minor": 4
}
