{
 "cells": [
  {
   "cell_type": "code",
   "execution_count": null,
   "metadata": {},
   "outputs": [],
   "source": [
    "import pandas as pd\n",
    "try:\n",
    "    data = pd.read_csv(\"../data/titanic_proc.csv\", index_col=\"PassengerId\")\n",
    "except:\n",
    "    data = pd.read_csv(\"https://raw.githubusercontent.com/Argentan/DMA_LAB2/master/data/titanic_proc.csv\", index_col=\"PassengerId\")\n",
    "data.head()"
   ]
  },
  {
   "cell_type": "code",
   "execution_count": null,
   "metadata": {},
   "outputs": [],
   "source": [
    "from sklearn.linear_model import LogisticRegression\n",
    "from lightgbm import LGBMClassifier\n",
    "from sklearn.model_selection import train_test_split, KFold, ParameterGrid"
   ]
  },
  {
   "cell_type": "code",
   "execution_count": null,
   "metadata": {},
   "outputs": [],
   "source": [
    "train, test = train_test_split(data, test_size=0.2, random_state=1)"
   ]
  },
  {
   "cell_type": "code",
   "execution_count": null,
   "metadata": {},
   "outputs": [],
   "source": [
    "folds = [train.index[idx] for _, idx in KFold(5, shuffle=True, random_state=1).split(train)]"
   ]
  },
  {
   "cell_type": "code",
   "execution_count": null,
   "metadata": {},
   "outputs": [],
   "source": [
    "candidatos = [\n",
    "    {\"algoritmo\": LogisticRegression, \"params\": {\"C\": [0.1, 1], \"penalty\": [ \"l2\"]}},\n",
    "    {\"algoritmo\": LGBMClassifier, \"params\": {\"num_leaves\": [10 , 20], \"max_depth\": [4 , 6, 8]}}\n",
    "]"
   ]
  },
  {
   "cell_type": "code",
   "execution_count": null,
   "metadata": {},
   "outputs": [],
   "source": [
    "valid_probs = []\n",
    "test_probs = []\n",
    "for candidato in candidatos:\n",
    "    for params in ParameterGrid(candidato[\"params\"]):\n",
    "        test_fold_probs = []\n",
    "        valid_fold_probs = []\n",
    "        name = candidato[\"algoritmo\"].__name__ + \";\" + \";\".join([f\"{k}_{v}\" for k, v in params.items()])\n",
    "        for valid_idx in folds:\n",
    "            X_valid = train.loc[valid_idx].drop(\"Survived\", axis=1)\n",
    "            # y_valid = train.loc[valid_idx, \"Survived\"]\n",
    "\n",
    "            X_train = train.drop(valid_idx).drop(\"Survived\", axis=1)\n",
    "            y_train = train.loc[X_train.index, \"Survived\"]\n",
    "\n",
    "            model = candidato[\"algoritmo\"](**params)\n",
    "            model.fit(X_train, y_train)\n",
    "\n",
    "            p = model.predict_proba(test.drop(\"Survived\", axis=1))[:, -1]\n",
    "            test_fold_probs.append(pd.Series(p, name=name, index=test.index))\n",
    "\n",
    "            p = model.predict_proba(X_valid)[:, -1]\n",
    "            valid_fold_probs.append(pd.Series(p, name=name, index=X_valid.index))\n",
    "        test_probs.append(pd.concat(test_fold_probs, axis=1).mean(axis=1).rename(name))\n",
    "        valid_probs.append(pd.concat(valid_fold_probs))\n",
    "valid_probs = pd.concat(valid_probs, axis=1)\n",
    "test_probs = pd.concat(test_probs, axis=1)"
   ]
  },
  {
   "cell_type": "code",
   "execution_count": null,
   "metadata": {},
   "outputs": [],
   "source": [
    "from sklearn.metrics import roc_auc_score"
   ]
  },
  {
   "cell_type": "code",
   "execution_count": null,
   "metadata": {},
   "outputs": [],
   "source": [
    "valid_res = pd.Series([roc_auc_score(train.loc[valid_probs.index, \"Survived\"], valid_probs[c])\n",
    "                       for c in valid_probs],\n",
    "                       name=\"resultados\", index=valid_probs.columns)\n",
    "valid_res"
   ]
  },
  {
   "cell_type": "code",
   "execution_count": null,
   "metadata": {},
   "outputs": [],
   "source": [
    "test_res = pd.Series([roc_auc_score(test.loc[test_probs.index, \"Survived\"], test_probs[c])\n",
    "                       for c in test_probs],\n",
    "                       name=\"resultados\", index=test_probs.columns)\n",
    "test_res"
   ]
  },
  {
   "cell_type": "code",
   "execution_count": null,
   "metadata": {},
   "outputs": [],
   "source": [
    "valid_res.idxmax()"
   ]
  },
  {
   "cell_type": "code",
   "execution_count": null,
   "metadata": {},
   "outputs": [],
   "source": [
    "test_probs"
   ]
  },
  {
   "cell_type": "code",
   "execution_count": null,
   "metadata": {},
   "outputs": [],
   "source": []
  }
 ],
 "metadata": {
  "kernelspec": {
   "display_name": "Python 3",
   "language": "python",
   "name": "python3"
  },
  "language_info": {
   "codemirror_mode": {
    "name": "ipython",
    "version": 3
   },
   "file_extension": ".py",
   "mimetype": "text/x-python",
   "name": "python",
   "nbconvert_exporter": "python",
   "pygments_lexer": "ipython3",
   "version": "3.7.6"
  }
 },
 "nbformat": 4,
 "nbformat_minor": 2
}
